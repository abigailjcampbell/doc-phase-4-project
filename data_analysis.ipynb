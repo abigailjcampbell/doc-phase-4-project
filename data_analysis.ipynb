{
 "cells": [
  {
   "cell_type": "markdown",
   "metadata": {},
   "source": [
    "## Final Project Submission\n",
    "\n",
    "Please fill out:\n",
    "* Student name: Abigail Campbell\n",
    "* Student pace: Flex\n",
    "* Scheduled project review date/time: \n",
    "* Instructor name: Morgan Jones\n",
    "* Blog post URL: "
   ]
  },
  {
   "cell_type": "markdown",
   "metadata": {},
   "source": [
    "### Topic 1: Recommendation Systems \n",
    "- make movie recommendations  \n",
    "- based on the MovieLens dataset  \n",
    "- from the GroupLens research lab at the University of Minnesota. \n",
    "- use the \"small\" dataset containing 100,000 user ratings (and potentially, only a particular subset of that dataset). \n",
    " \n",
    "#### Your task is to: \n",
    "- Build a model that provides top 5 movie recommendations to a user based on their ratings of other movies.  \n",
    "- create the specific details about how the user will provide their ratings of other movies \n",
    "- formulate a more specific business problem within the general context of \"recommending movies\". \n",
    " \n",
    "#### Collaborative Filtering \n",
    "- At minimum, your recommendation system must use collaborative filtering \n",
    "- consider implementing a hybrid approach,  \n",
    "- e.g. using collaborative filtering as the primary mechanism, but using content-based filtering to address the cold start problem. \n",
    " \n",
    "#### Evaluation \n",
    "- MovieLens dataset has explicit ratings  \n",
    "- give some thought to the question of metrics.  \n",
    "- Since the rankings are ordinal, we know we can treat this like a regression problem. \n",
    "- when it comes to regression metrics there are several choices: RMSE, MAE, etc.  "
   ]
  },
  {
   "cell_type": "markdown",
   "metadata": {},
   "source": [
    "# Business Problem\n",
    "\n"
   ]
  },
  {
   "cell_type": "markdown",
   "metadata": {},
   "source": [
    "## The Data\n",
    "\n",
    "M"
   ]
  },
  {
   "cell_type": "markdown",
   "metadata": {},
   "source": [
    "# Setup"
   ]
  },
  {
   "cell_type": "markdown",
   "metadata": {},
   "source": [
    "### Import relevant packages"
   ]
  },
  {
   "cell_type": "code",
   "execution_count": 175,
   "metadata": {},
   "outputs": [],
   "source": [
    "import pandas as pd\n",
    "import numpy as np\n",
    "import scipy.stats as stats\n",
    "import statsmodels.api as sm\n",
    "import json\n",
    "\n",
    "from surprise import Reader, Dataset\n",
    "from surprise.model_selection import cross_validate, GridSearchCV\n",
    "from surprise.prediction_algorithms import SVD, KNNWithMeans, KNNBasic, KNNBaseline\n",
    "from surprise.model_selection import train_test_split\n",
    "from surprise import accuracy\n",
    "\n",
    "from sklearn.preprocessing import OneHotEncoder\n",
    "from sklearn.metrics import f1_score, mean_squared_error, r2_score, roc_curve, auc, confusion_matrix, ConfusionMatrixDisplay, accuracy_score, precision_score, recall_score, classification_report\n",
    "\n",
    "import seaborn as sns\n",
    "import matplotlib.pyplot as plt\n",
    "%matplotlib inline"
   ]
  },
  {
   "cell_type": "markdown",
   "metadata": {},
   "source": [
    "# Load and Clean Data"
   ]
  },
  {
   "cell_type": "code",
   "execution_count": 2,
   "metadata": {},
   "outputs": [],
   "source": [
    "# load raw csv files\n",
    "movies_df = pd.read_csv('data/movies.csv')\n",
    "ratings_df = pd.read_csv('data/ratings.csv')\n",
    "tags_df = pd.read_csv('data/tags.csv')"
   ]
  },
  {
   "cell_type": "markdown",
   "metadata": {},
   "source": [
    "preview Data, drop timestamp columns from all"
   ]
  },
  {
   "cell_type": "code",
   "execution_count": 3,
   "metadata": {
    "scrolled": true
   },
   "outputs": [
    {
     "data": {
      "text/html": [
       "<div>\n",
       "<style scoped>\n",
       "    .dataframe tbody tr th:only-of-type {\n",
       "        vertical-align: middle;\n",
       "    }\n",
       "\n",
       "    .dataframe tbody tr th {\n",
       "        vertical-align: top;\n",
       "    }\n",
       "\n",
       "    .dataframe thead th {\n",
       "        text-align: right;\n",
       "    }\n",
       "</style>\n",
       "<table border=\"1\" class=\"dataframe\">\n",
       "  <thead>\n",
       "    <tr style=\"text-align: right;\">\n",
       "      <th></th>\n",
       "      <th>movieId</th>\n",
       "      <th>title</th>\n",
       "      <th>genres</th>\n",
       "    </tr>\n",
       "  </thead>\n",
       "  <tbody>\n",
       "    <tr>\n",
       "      <th>0</th>\n",
       "      <td>1</td>\n",
       "      <td>Toy Story (1995)</td>\n",
       "      <td>Adventure|Animation|Children|Comedy|Fantasy</td>\n",
       "    </tr>\n",
       "    <tr>\n",
       "      <th>1</th>\n",
       "      <td>2</td>\n",
       "      <td>Jumanji (1995)</td>\n",
       "      <td>Adventure|Children|Fantasy</td>\n",
       "    </tr>\n",
       "    <tr>\n",
       "      <th>2</th>\n",
       "      <td>3</td>\n",
       "      <td>Grumpier Old Men (1995)</td>\n",
       "      <td>Comedy|Romance</td>\n",
       "    </tr>\n",
       "    <tr>\n",
       "      <th>3</th>\n",
       "      <td>4</td>\n",
       "      <td>Waiting to Exhale (1995)</td>\n",
       "      <td>Comedy|Drama|Romance</td>\n",
       "    </tr>\n",
       "    <tr>\n",
       "      <th>4</th>\n",
       "      <td>5</td>\n",
       "      <td>Father of the Bride Part II (1995)</td>\n",
       "      <td>Comedy</td>\n",
       "    </tr>\n",
       "  </tbody>\n",
       "</table>\n",
       "</div>"
      ],
      "text/plain": [
       "   movieId                               title  \\\n",
       "0        1                    Toy Story (1995)   \n",
       "1        2                      Jumanji (1995)   \n",
       "2        3             Grumpier Old Men (1995)   \n",
       "3        4            Waiting to Exhale (1995)   \n",
       "4        5  Father of the Bride Part II (1995)   \n",
       "\n",
       "                                        genres  \n",
       "0  Adventure|Animation|Children|Comedy|Fantasy  \n",
       "1                   Adventure|Children|Fantasy  \n",
       "2                               Comedy|Romance  \n",
       "3                         Comedy|Drama|Romance  \n",
       "4                                       Comedy  "
      ]
     },
     "execution_count": 3,
     "metadata": {},
     "output_type": "execute_result"
    }
   ],
   "source": [
    "movies_df.head()"
   ]
  },
  {
   "cell_type": "code",
   "execution_count": 4,
   "metadata": {},
   "outputs": [
    {
     "data": {
      "text/html": [
       "<div>\n",
       "<style scoped>\n",
       "    .dataframe tbody tr th:only-of-type {\n",
       "        vertical-align: middle;\n",
       "    }\n",
       "\n",
       "    .dataframe tbody tr th {\n",
       "        vertical-align: top;\n",
       "    }\n",
       "\n",
       "    .dataframe thead th {\n",
       "        text-align: right;\n",
       "    }\n",
       "</style>\n",
       "<table border=\"1\" class=\"dataframe\">\n",
       "  <thead>\n",
       "    <tr style=\"text-align: right;\">\n",
       "      <th></th>\n",
       "      <th>userId</th>\n",
       "      <th>movieId</th>\n",
       "      <th>rating</th>\n",
       "    </tr>\n",
       "  </thead>\n",
       "  <tbody>\n",
       "    <tr>\n",
       "      <th>0</th>\n",
       "      <td>1</td>\n",
       "      <td>1</td>\n",
       "      <td>4.0</td>\n",
       "    </tr>\n",
       "    <tr>\n",
       "      <th>1</th>\n",
       "      <td>1</td>\n",
       "      <td>3</td>\n",
       "      <td>4.0</td>\n",
       "    </tr>\n",
       "    <tr>\n",
       "      <th>2</th>\n",
       "      <td>1</td>\n",
       "      <td>6</td>\n",
       "      <td>4.0</td>\n",
       "    </tr>\n",
       "    <tr>\n",
       "      <th>3</th>\n",
       "      <td>1</td>\n",
       "      <td>47</td>\n",
       "      <td>5.0</td>\n",
       "    </tr>\n",
       "    <tr>\n",
       "      <th>4</th>\n",
       "      <td>1</td>\n",
       "      <td>50</td>\n",
       "      <td>5.0</td>\n",
       "    </tr>\n",
       "  </tbody>\n",
       "</table>\n",
       "</div>"
      ],
      "text/plain": [
       "   userId  movieId  rating\n",
       "0       1        1     4.0\n",
       "1       1        3     4.0\n",
       "2       1        6     4.0\n",
       "3       1       47     5.0\n",
       "4       1       50     5.0"
      ]
     },
     "execution_count": 4,
     "metadata": {},
     "output_type": "execute_result"
    }
   ],
   "source": [
    "ratings = ratings_df.drop(columns=['timestamp'], axis=1)\n",
    "ratings.head()"
   ]
  },
  {
   "cell_type": "code",
   "execution_count": 5,
   "metadata": {},
   "outputs": [
    {
     "data": {
      "text/html": [
       "<div>\n",
       "<style scoped>\n",
       "    .dataframe tbody tr th:only-of-type {\n",
       "        vertical-align: middle;\n",
       "    }\n",
       "\n",
       "    .dataframe tbody tr th {\n",
       "        vertical-align: top;\n",
       "    }\n",
       "\n",
       "    .dataframe thead th {\n",
       "        text-align: right;\n",
       "    }\n",
       "</style>\n",
       "<table border=\"1\" class=\"dataframe\">\n",
       "  <thead>\n",
       "    <tr style=\"text-align: right;\">\n",
       "      <th></th>\n",
       "      <th>userId</th>\n",
       "      <th>movieId</th>\n",
       "      <th>tag</th>\n",
       "    </tr>\n",
       "  </thead>\n",
       "  <tbody>\n",
       "    <tr>\n",
       "      <th>0</th>\n",
       "      <td>2</td>\n",
       "      <td>60756</td>\n",
       "      <td>funny</td>\n",
       "    </tr>\n",
       "    <tr>\n",
       "      <th>1</th>\n",
       "      <td>2</td>\n",
       "      <td>60756</td>\n",
       "      <td>Highly quotable</td>\n",
       "    </tr>\n",
       "    <tr>\n",
       "      <th>2</th>\n",
       "      <td>2</td>\n",
       "      <td>60756</td>\n",
       "      <td>will ferrell</td>\n",
       "    </tr>\n",
       "    <tr>\n",
       "      <th>3</th>\n",
       "      <td>2</td>\n",
       "      <td>89774</td>\n",
       "      <td>Boxing story</td>\n",
       "    </tr>\n",
       "    <tr>\n",
       "      <th>4</th>\n",
       "      <td>2</td>\n",
       "      <td>89774</td>\n",
       "      <td>MMA</td>\n",
       "    </tr>\n",
       "  </tbody>\n",
       "</table>\n",
       "</div>"
      ],
      "text/plain": [
       "   userId  movieId              tag\n",
       "0       2    60756            funny\n",
       "1       2    60756  Highly quotable\n",
       "2       2    60756     will ferrell\n",
       "3       2    89774     Boxing story\n",
       "4       2    89774              MMA"
      ]
     },
     "execution_count": 5,
     "metadata": {},
     "output_type": "execute_result"
    }
   ],
   "source": [
    "tags = tags_df.drop(columns=['timestamp'], axis=1)\n",
    "tags.head()"
   ]
  },
  {
   "cell_type": "markdown",
   "metadata": {},
   "source": [
    "## Total Dataset Visualizations"
   ]
  },
  {
   "cell_type": "markdown",
   "metadata": {},
   "source": [
    "### Most common tags"
   ]
  },
  {
   "cell_type": "code",
   "execution_count": 143,
   "metadata": {},
   "outputs": [
    {
     "data": {
      "image/png": "[encoded data removed]",
      "text/plain": [
       "<Figure size 1080x360 with 1 Axes>"
      ]
     },
     "metadata": {
      "needs_background": "light"
     },
     "output_type": "display_data"
    }
   ],
   "source": [
    "tags_group = tags.drop(columns='userId', axis=1)\n",
    "tags_group = tags_group.groupby('tag').count().sort_values(by='movieId', ascending=False)\n",
    "tags_group = tags_group.rename(columns={'movieId': 'Count'})\n",
    "top_tag_groups = tags_group[:10]\n",
    "\n",
    "plt.figure(figsize=(15,5))\n",
    "sns.barplot(data=top_tag_groups, x='Count', y=top_tag_groups.index, palette='flare')\n",
    "plt.yticks(fontsize=15)\n",
    "plt.xlabel('Number of Movies with Tag', fontsize=18)\n",
    "plt.ylabel('Tag', fontsize=18)\n",
    "plt.title('Most Common Tags', fontsize=20)\n",
    "plt.grid()"
   ]
  },
  {
   "cell_type": "code",
   "execution_count": 142,
   "metadata": {},
   "outputs": [
    {
     "data": {
      "image/png": "[encoded data removed]",
      "text/plain": [
       "<Figure size 1080x360 with 1 Axes>"
      ]
     },
     "metadata": {
      "needs_background": "light"
     },
     "output_type": "display_data"
    }
   ],
   "source": [
    "top_tag_groups = tags_group[1:11]\n",
    "\n",
    "plt.figure(figsize=(15,5))\n",
    "sns.barplot(data=top_tag_groups, x='Count', y=top_tag_groups.index, palette='flare')\n",
    "plt.yticks(fontsize=15)\n",
    "plt.xlabel('Number of Movies with Tag', fontsize=18)\n",
    "plt.ylabel('', fontsize=18)\n",
    "plt.title('Most Common Tags', fontsize=20)\n",
    "plt.grid()"
   ]
  },
  {
   "cell_type": "markdown",
   "metadata": {},
   "source": [
    "### Genre counts"
   ]
  },
  {
   "cell_type": "code",
   "execution_count": 141,
   "metadata": {},
   "outputs": [
    {
     "data": {
      "image/png": "[encoded data removed]",
      "text/plain": [
       "<Figure size 1080x360 with 1 Axes>"
      ]
     },
     "metadata": {
      "needs_background": "light"
     },
     "output_type": "display_data"
    }
   ],
   "source": [
    "genres = movies_df.drop(columns=['title'], axis=1)\n",
    "\n",
    "# convert genre tags to list\n",
    "genres['genres'] = genres['genres'].map(lambda x: x.split('|'))\n",
    "genres = genres.explode('genres')\n",
    "\n",
    "genres_group = genres.groupby('genres').count().sort_values(by='movieId', ascending=False)\n",
    "genres_group = genres_group.rename(columns={'movieId': 'Count'})\n",
    "top_genres_group = genres_group[:10]\n",
    "\n",
    "plt.figure(figsize=(15,5))\n",
    "sns.barplot(data=top_genres_group, x='Count', y=top_genres_group.index, palette='flare')\n",
    "plt.yticks(fontsize=15)\n",
    "plt.xlabel('Number of Movies in Genre', fontsize=18)\n",
    "plt.ylabel('', fontsize=18)\n",
    "plt.title('Most Common Genres', fontsize=20)\n",
    "plt.grid()"
   ]
  },
  {
   "cell_type": "markdown",
   "metadata": {},
   "source": [
    "### Histogram of Ratings"
   ]
  },
  {
   "cell_type": "code",
   "execution_count": 140,
   "metadata": {},
   "outputs": [
    {
     "data": {
      "image/png": "[encoded data removed]",
      "text/plain": [
       "<Figure size 1080x360 with 1 Axes>"
      ]
     },
     "metadata": {
      "needs_background": "light"
     },
     "output_type": "display_data"
    }
   ],
   "source": [
    "ratings_count = ratings.groupby(\"rating\").count()\n",
    "ratings_count.drop(columns=[\"userId\"], axis=1)\n",
    "ratings_count = ratings_count.rename(columns={'movieId': 'Count'})\n",
    "\n",
    "plt.figure(figsize=(15,5))\n",
    "sns.barplot(data=ratings_count, x=ratings_count.index, y='Count', palette=\"rocket\")\n",
    "plt.yticks(fontsize=15)\n",
    "plt.xlabel('Rating', fontsize=18)\n",
    "plt.ylabel('Number of Occurrances', fontsize=18)\n",
    "plt.title('Ratings Distribution', fontsize=20)\n",
    "plt.grid()"
   ]
  },
  {
   "cell_type": "markdown",
   "metadata": {},
   "source": [
    "## Create a Surprise Dataset"
   ]
  },
  {
   "cell_type": "markdown",
   "metadata": {},
   "source": [
    "goal:\n",
    "- make recommendations for a given user id\n",
    "- based on the movies they rated highly, recommend similar movies\n",
    "- use movieId to get movie title after\n"
   ]
  },
  {
   "cell_type": "code",
   "execution_count": 6,
   "metadata": {},
   "outputs": [],
   "source": [
    "reader = Reader()\n",
    "data = Dataset.load_from_df(ratings, reader)"
   ]
  },
  {
   "cell_type": "code",
   "execution_count": 7,
   "metadata": {},
   "outputs": [
    {
     "name": "stdout",
     "output_type": "stream",
     "text": [
      "N users = 610\n",
      "N items = 9724\n"
     ]
    }
   ],
   "source": [
    "dataset = data.build_full_trainset()\n",
    "print(f\"N users = {dataset.n_users}\")\n",
    "print(f\"N items = {dataset.n_items}\")"
   ]
  },
  {
   "cell_type": "code",
   "execution_count": 14,
   "metadata": {},
   "outputs": [],
   "source": [
    "trainset, testset = train_test_split(data, test_size=0.2)"
   ]
  },
  {
   "cell_type": "markdown",
   "metadata": {},
   "source": [
    "## Create a function to train and test each KNN method"
   ]
  },
  {
   "cell_type": "code",
   "execution_count": 15,
   "metadata": {},
   "outputs": [],
   "source": [
    "sim_cos_item = {\"name\": \"cosine\", \"user_based\": False}\n",
    "sim_pearson_item = {\"name\": \"pearson\", \"user_based\": False}\n",
    "sim_cos_user = {\"name\": \"cosine\", \"user_based\": True}\n",
    "sim_pearson_user = {\"name\": \"pearson\", \"user_based\": True}"
   ]
  },
  {
   "cell_type": "code",
   "execution_count": 161,
   "metadata": {},
   "outputs": [],
   "source": [
    "def run_KNN_model(model_type, params):\n",
    "    if model_type == 'KNNBasic':\n",
    "        model = KNNBasic(sim_options=params, verbose=False)\n",
    "    elif model_type == 'KNNBaseline':\n",
    "        model = KNNBaseline(sim_options=params, verbose=False)\n",
    "    elif model_type == 'KNNWithMeans':\n",
    "        model = KNNWithMeans(sim_options=params, verbose=False)\n",
    "    else:\n",
    "        return 'not a model'\n",
    "\n",
    "    model.fit(trainset)\n",
    "    predictions = model.test(testset)\n",
    "    accuracy_rmse = accuracy.rmse(predictions, verbose=False)\n",
    "    accuracy_mae = accuracy.mae(predictions, verbose=False)\n",
    "#     cv = cross_validate(model, data)\n",
    "    \n",
    "    return accuracy_rmse, accuracy_mae"
   ]
  },
  {
   "cell_type": "markdown",
   "metadata": {},
   "source": [
    "## Train and Test KNN Basic Methods"
   ]
  },
  {
   "cell_type": "code",
   "execution_count": 167,
   "metadata": {},
   "outputs": [
    {
     "name": "stdout",
     "output_type": "stream",
     "text": [
      "basic pearson user: rmse = 0.9773, mae = 0.7532\n",
      "basic pearson item: rmse = 0.9671, mae = 0.7522\n",
      "basic cosine user: rmse = 0.9776, mae = 0.7507\n",
      "basic cosine item: rmse = 0.9773, mae = 0.7623\n"
     ]
    }
   ],
   "source": [
    "basic_p_u_rmse, basic_p_u_mae = run_KNN_model(\"KNNBasic\", sim_pearson_user)\n",
    "print(f'basic pearson user: rmse = {round(basic_p_u_rmse, 4)}, mae = {round(basic_p_u_mae, 4)}')\n",
    "\n",
    "basic_p_i_rmse, basic_p_i_mae = run_KNN_model(\"KNNBasic\", sim_pearson_item)\n",
    "print(f'basic pearson item: rmse = {round(basic_p_i_rmse, 4)}, mae = {round(basic_p_i_mae, 4)}')\n",
    "\n",
    "basic_c_u_rmse, basic_c_u_mae = run_KNN_model(\"KNNBasic\", sim_cos_user)\n",
    "print(f'basic cosine user: rmse = {round(basic_c_u_rmse, 4)}, mae = {round(basic_c_u_mae, 4)}')\n",
    "\n",
    "basic_c_i_rmse, basic_c_i_mae = run_KNN_model(\"KNNBasic\", sim_cos_item)\n",
    "print(f'basic cosine item: rmse = {round(basic_c_i_rmse, 4)}, mae = {round(basic_c_i_mae, 4)}')"
   ]
  },
  {
   "cell_type": "markdown",
   "metadata": {},
   "source": [
    "## Train and Test KNN Baseline Methods"
   ]
  },
  {
   "cell_type": "code",
   "execution_count": 168,
   "metadata": {},
   "outputs": [
    {
     "name": "stdout",
     "output_type": "stream",
     "text": [
      "baseline pearson user: rmse = 0.8828, mae = 0.6739\n",
      "baseline pearson item: rmse = 0.877, mae = 0.6767\n",
      "baseline cosine user: rmse = 0.8839, mae = 0.6765\n",
      "baseline cosine item: rmse = 0.8918, mae = 0.6893\n"
     ]
    }
   ],
   "source": [
    "base_p_u_rmse, base_p_u_mae = run_KNN_model('KNNBaseline', sim_pearson_user)\n",
    "print(f'baseline pearson user: rmse = {round(base_p_u_rmse, 4)}, mae = {round(base_p_u_mae, 4)}')\n",
    "\n",
    "base_p_i_rmse, base_p_i_mae = run_KNN_model('KNNBaseline', sim_pearson_item)\n",
    "print(f'baseline pearson item: rmse = {round(base_p_i_rmse, 4)}, mae = {round(base_p_i_mae, 4)}')\n",
    "\n",
    "base_c_u_rmse, base_c_u_mae = run_KNN_model('KNNBaseline', sim_cos_user)\n",
    "print(f'baseline cosine user: rmse = {round(base_c_u_rmse, 4)}, mae = {round(base_c_u_mae, 4)}')\n",
    "\n",
    "base_c_i_rmse, base_c_i_mae = run_KNN_model('KNNBaseline', sim_cos_item)\n",
    "print(f'baseline cosine item: rmse = {round(base_c_i_rmse, 4)}, mae = {round(base_c_i_mae, 4)}')"
   ]
  },
  {
   "cell_type": "markdown",
   "metadata": {},
   "source": [
    "## Train and Test KNN With Means Methods"
   ]
  },
  {
   "cell_type": "code",
   "execution_count": 169,
   "metadata": {},
   "outputs": [
    {
     "name": "stdout",
     "output_type": "stream",
     "text": [
      "means pearson user: rmse = 0.9014, mae = 0.6864\n",
      "means pearson item: rmse = 0.9045, mae = 0.6883\n",
      "means cosine user: rmse = 0.9052, mae = 0.693\n",
      "means cosine item: rmse = 0.9065, mae = 0.6922\n"
     ]
    }
   ],
   "source": [
    "means_p_u_rmse, means_p_u_mae = run_KNN_model('KNNWithMeans', sim_pearson_user)\n",
    "print(f'means pearson user: rmse = {round(means_p_u_rmse, 4)}, mae = {round(means_p_u_mae, 4)}')\n",
    "\n",
    "means_p_i_rmse, means_p_i_mae = run_KNN_model('KNNWithMeans', sim_pearson_item)\n",
    "print(f'means pearson item: rmse = {round(means_p_i_rmse, 4)}, mae = {round(means_p_i_mae, 4)}')\n",
    "\n",
    "means_c_u_rmse, means_c_u_mae = run_KNN_model('KNNWithMeans', sim_cos_user)\n",
    "print(f'means cosine user: rmse = {round(means_c_u_rmse, 4)}, mae = {round(means_c_u_mae, 4)}')\n",
    "\n",
    "means_c_i_rmse, means_c_i_mae = run_KNN_model('KNNWithMeans', sim_cos_item)\n",
    "print(f'means cosine item: rmse = {round(means_c_i_rmse, 4)}, mae = {round(means_c_i_mae, 4)}')"
   ]
  },
  {
   "cell_type": "markdown",
   "metadata": {},
   "source": [
    "## Train and Test SVD Methods"
   ]
  },
  {
   "cell_type": "code",
   "execution_count": 176,
   "metadata": {},
   "outputs": [
    {
     "name": "stdout",
     "output_type": "stream",
     "text": [
      "{'rmse': 0.869280583970683, 'mae': 0.6685759221765496}\n",
      "{'rmse': {'n_factors': 80, 'reg_all': 0.05, 'n_epochs': 10, 'lr_all': 0.01}, 'mae': {'n_factors': 80, 'reg_all': 0.05, 'n_epochs': 10, 'lr_all': 0.01}}\n"
     ]
    }
   ],
   "source": [
    "grid_search_params = {'n_factors': [30, 40, 50, 60, 70, 80, 90, 100, 110],\n",
    "                      'reg_all': [0.02, 0.04, 0.05, 0.06, 0.07, 0.1],\n",
    "                      'n_epochs': [5, 10],\n",
    "                      'lr_all': [0.005, 0.01]}\n",
    "g_s_svd = GridSearchCV(SVD, param_grid=grid_search_params, n_jobs=-1)\n",
    "g_s_svd.fit(data)\n",
    "\n",
    "print(g_s_svd.best_score)\n",
    "print(g_s_svd.best_params)"
   ]
  },
  {
   "cell_type": "markdown",
   "metadata": {},
   "source": [
    "## Define the Final Model"
   ]
  },
  {
   "cell_type": "code",
   "execution_count": 361,
   "metadata": {},
   "outputs": [
    {
     "data": {
      "text/plain": [
       "<surprise.prediction_algorithms.knns.KNNBaseline at 0x7fcc527c5280>"
      ]
     },
     "execution_count": 361,
     "metadata": {},
     "output_type": "execute_result"
    }
   ],
   "source": [
    "final_model = KNNBaseline(sim_options=sim_pearson_item, verbose=False)\n",
    "# svd_best_rmse = g_s_svd.best_params['rmse']\n",
    "# final_model = SVD(n_factors=svd_best_rmse ['n_factors'], reg_all=svd_best_rmse ['reg_all'], n_epochs=svd_best_rmse['n_epochs'] , lr_all=svd_best_rmse['lr_all'])\n",
    "final_model.fit(dataset)"
   ]
  },
  {
   "cell_type": "markdown",
   "metadata": {},
   "source": [
    "## Make Predictions"
   ]
  },
  {
   "cell_type": "code",
   "execution_count": 46,
   "metadata": {},
   "outputs": [],
   "source": [
    "def rank_movies(userId):\n",
    "\n",
    "    movies_list = []\n",
    "    for movie_id in ratings.index.unique():\n",
    "        user_prediction = final_model.predict(userId, movie_id)\n",
    "        predicted_rating = user_prediction[3]\n",
    "        movies_list.append((movie_id, predicted_rating))\n",
    "\n",
    "    ranked_movies = sorted(movies_list, key=lambda x:x[1], reverse=True)\n",
    "    \n",
    "    return ranked_movies"
   ]
  },
  {
   "cell_type": "code",
   "execution_count": 47,
   "metadata": {},
   "outputs": [],
   "source": [
    "def look_up_movie(movieId):\n",
    "    title = movies_df[movies_df['movieId']==movieId]['title']\n",
    "    title_string = title[title.index[0]]\n",
    "    return title_string"
   ]
  },
  {
   "cell_type": "code",
   "execution_count": 48,
   "metadata": {},
   "outputs": [],
   "source": [
    "def get_recommended_titles(n_recs, ranked_movies):\n",
    "    return [look_up_movie(id[0]) for id in ranked_movies[0:n_recs]]"
   ]
  },
  {
   "cell_type": "code",
   "execution_count": 66,
   "metadata": {},
   "outputs": [],
   "source": [
    "def recommend_to_user(userId, n_recs):\n",
    "    ranked_movies = rank_movies(userId)\n",
    "    recommended_titles = get_recommended_titles(n_recs, ranked_movies)\n",
    "    return recommended_titles"
   ]
  },
  {
   "cell_type": "code",
   "execution_count": 362,
   "metadata": {},
   "outputs": [
    {
     "data": {
      "text/plain": [
       "['Seven (a.k.a. Se7en) (1995)',\n",
       " 'Usual Suspects, The (1995)',\n",
       " 'Bottle Rocket (1996)',\n",
       " 'Star Wars: Episode IV - A New Hope (1977)',\n",
       " 'Shawshank Redemption, The (1994)']"
      ]
     },
     "execution_count": 362,
     "metadata": {},
     "output_type": "execute_result"
    }
   ],
   "source": [
    "user_id = 1\n",
    "n_recs = 5\n",
    "recommend_to_user(user_id, n_recs)"
   ]
  },
  {
   "cell_type": "markdown",
   "metadata": {},
   "source": [
    "## Cold Start Problem"
   ]
  },
  {
   "cell_type": "markdown",
   "metadata": {},
   "source": [
    "## Recommend the top 5 highest rated movies and most rated movies\n",
    "- movies with highest ratings with a certain # of ratings above\n",
    "- continue until you have a threshold of ratings"
   ]
  },
  {
   "cell_type": "code",
   "execution_count": 398,
   "metadata": {},
   "outputs": [],
   "source": [
    "# get average ratings and number of ratings for each movie id\n",
    "ratings_avg = ratings.groupby('movieId').mean()\n",
    "ratings_count = ratings.groupby('movieId').count()\n",
    "ratings_avg.head()\n",
    "\n",
    "# combine average and count into one stats dataframe\n",
    "ratings_stats = ratings_avg.drop(columns='userId')\n",
    "ratings_stats[\"n_ratings\"] = ratings_count['userId']\n",
    "\n",
    "# drop all movies with less than 10 ratings\n",
    "ratings_stats = ratings_stats[ratings_stats['n_ratings'] > 50]\n",
    "\n",
    "# order the movies by highest rank and highest number of ratings\n",
    "ratings_stats_by_rating = ratings_stats.sort_values(by='rating', ascending=False)\n",
    "ratings_stats_by_count = ratings_stats.sort_values(by='n_ratings', ascending=False)"
   ]
  },
  {
   "cell_type": "code",
   "execution_count": 399,
   "metadata": {},
   "outputs": [
    {
     "data": {
      "text/plain": [
       "['Forrest Gump (1994)',\n",
       " 'Shawshank Redemption, The (1994)',\n",
       " 'Pulp Fiction (1994)',\n",
       " 'Silence of the Lambs, The (1991)',\n",
       " 'Matrix, The (1999)']"
      ]
     },
     "execution_count": 399,
     "metadata": {},
     "output_type": "execute_result"
    }
   ],
   "source": [
    "def top_movies(n_movies, ratings):\n",
    "    return [look_up_movie(movie_id) for movie_id in ratings[0:n_movies].index]\n",
    "\n",
    "top_movies(5, ratings_stats_by_rating)\n",
    "top_movies(5, ratings_stats_by_count)"
   ]
  },
  {
   "cell_type": "markdown",
   "metadata": {},
   "source": [
    "# Follow a User"
   ]
  },
  {
   "cell_type": "code",
   "execution_count": 324,
   "metadata": {},
   "outputs": [],
   "source": [
    "user = 420"
   ]
  },
  {
   "cell_type": "code",
   "execution_count": 325,
   "metadata": {},
   "outputs": [],
   "source": [
    "def get_user_ratings(userId):\n",
    "    user_ratings = ratings[ratings.userId == userId]\n",
    "    return user_ratings"
   ]
  },
  {
   "cell_type": "code",
   "execution_count": 248,
   "metadata": {
    "scrolled": true
   },
   "outputs": [],
   "source": [
    "def user_top_movies(user_ratings, n):\n",
    "    top_titles = []\n",
    "    for movieId in user_ratings[:n].movieId:\n",
    "        top_titles.append(look_up_movie(movieId))\n",
    "    return top_titles "
   ]
  },
  {
   "cell_type": "code",
   "execution_count": 228,
   "metadata": {},
   "outputs": [],
   "source": [
    "def look_up_tags(movieId):\n",
    "    tags_list = tags[tags['movieId']==movieId]['tag']\n",
    "    tags_string = []\n",
    "    for tag in tags_list:\n",
    "        tags_string.append(tag)\n",
    "    return list(np.unique(np.array(tags_string)))"
   ]
  },
  {
   "cell_type": "code",
   "execution_count": 247,
   "metadata": {},
   "outputs": [],
   "source": [
    "def user_top_movie_tags(user_ratings, n_movies):\n",
    "    top_tags = []\n",
    "    for movieId in user_ratings[:n_movies].movieId:\n",
    "        top_tags.extend(look_up_tags(movieId))\n",
    "    return top_tags"
   ]
  },
  {
   "cell_type": "code",
   "execution_count": 240,
   "metadata": {},
   "outputs": [],
   "source": [
    "def look_up_genres(movieId):\n",
    "    genres_list = movies_df[movies_df['movieId']==movieId]['genres']\n",
    "    genres_string = []\n",
    "    for genre in genres_list:\n",
    "        genres_string.append(genre.split('|'))\n",
    "    return list(np.unique(np.array(genres_string)))"
   ]
  },
  {
   "cell_type": "code",
   "execution_count": 343,
   "metadata": {},
   "outputs": [],
   "source": [
    "def user_top_movie_genres(user_ratings, n_movies):\n",
    "    top_genres = []\n",
    "    for movieId in user_ratings[:n_movies].movieId:\n",
    "        top_genres.extend(look_up_genres(movieId))\n",
    "    return list(np.unique(np.array(top_genres)))"
   ]
  },
  {
   "cell_type": "code",
   "execution_count": 344,
   "metadata": {},
   "outputs": [],
   "source": [
    "def user_ratings_distribution(user_ratings):\n",
    "    ratings_count = user_ratings.groupby(\"rating\").count()\n",
    "    ratings_count = ratings_count.drop(columns=[\"userId\"], axis=1)\n",
    "    ratings_count = ratings_count.rename(columns={'movieId': 'Count'})\n",
    "    ratings_count.loc[1.0] = [0]\n",
    "    \n",
    "    # if any rating categories are missing, add them back in\n",
    "    for rate in [0, 0.5, 1.0, 1.5, 2.0, 2.5, 3.0, 3.5, 4.0, 4.5, 5.0]:\n",
    "        if rate not in ratings_count.index:\n",
    "            ratings_count.loc[rate] = [0]\n",
    "\n",
    "    plt.figure(figsize=(15,5))\n",
    "    sns.barplot(data=ratings_count, x=ratings_count.index, y='Count', palette=\"rocket\")\n",
    "    plt.yticks(fontsize=15)\n",
    "    plt.xlabel('Rating', fontsize=18)\n",
    "    plt.ylabel('Number of Occurrances', fontsize=18)\n",
    "    plt.title('Ratings Distribution', fontsize=20)\n",
    "    plt.grid()"
   ]
  },
  {
   "cell_type": "code",
   "execution_count": 345,
   "metadata": {},
   "outputs": [],
   "source": [
    "def user_profile(userId, n):\n",
    "    \n",
    "    # user basics\n",
    "    user_ratings = get_user_ratings(userId)\n",
    "    n_ratings = len(user_ratings)\n",
    "    \n",
    "    print(f'n ratings = {n_ratings}')\n",
    "    \n",
    "    # top movie stuff\n",
    "    top_movies = user_top_movies(user_ratings, n)\n",
    "    top_tags = user_top_movie_tags(user_ratings, n)\n",
    "    top_genres = user_top_movie_genres(user_ratings, n)\n",
    "    \n",
    "    print(f'top {n} movies = {top_movies}')\n",
    "    print(f'top tags = {top_tags}')\n",
    "    print(f'top genres = {top_genres}')\n",
    "    \n",
    "    # plots\n",
    "    user_ratings_distribution(user_ratings)"
   ]
  },
  {
   "cell_type": "code",
   "execution_count": 346,
   "metadata": {},
   "outputs": [
    {
     "name": "stdout",
     "output_type": "stream",
     "text": [
      "n ratings = 135\n",
      "top 5 movies = ['Toy Story (1995)', 'Jumanji (1995)', 'Babe (1995)', 'Pocahontas (1995)', 'Indian in the Cupboard, The (1995)']\n",
      "top tags = ['fun', 'pixar', 'Robin Williams', 'fantasy', 'game', 'magic board game', 'Animal movie', 'pigs', 'villain nonexistent or not needed for good story']\n",
      "top genres = ['Adventure', 'Animation', 'Children', 'Comedy', 'Drama', 'Fantasy', 'Musical', 'Romance']\n"
     ]
    },
    {
     "data": {
      "image/png": "[encoded data removed]",
      "text/plain": [
       "<Figure size 1080x360 with 1 Axes>"
      ]
     },
     "metadata": {
      "needs_background": "light"
     },
     "output_type": "display_data"
    }
   ],
   "source": [
    "userId = 27\n",
    "n_movies = 5\n",
    "\n",
    "user_profile(userId, n_movies)"
   ]
  },
  {
   "cell_type": "markdown",
   "metadata": {},
   "source": [
    "# Look at top 5 recommendations for all users \n",
    "- most common movies recommended"
   ]
  },
  {
   "cell_type": "code",
   "execution_count": 378,
   "metadata": {},
   "outputs": [],
   "source": [
    "userIds = list(np.unique(np.array(ratings.userId)))\n",
    "userIds = userIds[:40]\n",
    "all_recs = []\n",
    "for Id in userIds:\n",
    "    all_recs.extend(recommend_to_user(Id, n_recs))"
   ]
  },
  {
   "cell_type": "code",
   "execution_count": 393,
   "metadata": {},
   "outputs": [],
   "source": [
    "unique_movies = list(np.unique(np.array(all_recs)))\n",
    "occurance_count = [all_recs.count(movie) for movie in unique_movies]\n",
    "movie_rec_count = pd.DataFrame({'movie': unique_movies, 'rec_count': occurance_count}).sort_values(by='rec_count', ascending=False).set_index('movie')\n",
    "movie_rec_count.head()\n",
    "movie_rec_count = movie_rec_count[:10]"
   ]
  },
  {
   "cell_type": "code",
   "execution_count": 397,
   "metadata": {},
   "outputs": [
    {
     "data": {
      "image/png": "[encoded data removed]",
      "text/plain": [
       "<Figure size 1080x720 with 1 Axes>"
      ]
     },
     "metadata": {
      "needs_background": "light"
     },
     "output_type": "display_data"
    }
   ],
   "source": [
    "plt.figure(figsize=(15,10))\n",
    "sns.barplot(data=movie_rec_count, x='rec_count', y=movie_rec_count.index, palette='rocket')\n",
    "plt.yticks(fontsize=15)\n",
    "plt.xlabel('Number of Movies with Tag', fontsize=18)\n",
    "plt.ylabel('', fontsize=18)\n",
    "plt.title('Most Common Movies Recommended', fontsize=20)\n",
    "plt.grid()\n",
    "plt.show()"
   ]
  },
  {
   "cell_type": "code",
   "execution_count": null,
   "metadata": {},
   "outputs": [],
   "source": []
  }
 ],
 "metadata": {
  "kernelspec": {
   "display_name": "Python 3",
   "language": "python",
   "name": "python3"
  },
  "language_info": {
   "codemirror_mode": {
    "name": "ipython",
    "version": 3
   },
   "file_extension": ".py",
   "mimetype": "text/x-python",
   "name": "python",
   "nbconvert_exporter": "python",
   "pygments_lexer": "ipython3",
   "version": "3.8.5"
  }
 },
 "nbformat": 4,
 "nbformat_minor": 2
}
